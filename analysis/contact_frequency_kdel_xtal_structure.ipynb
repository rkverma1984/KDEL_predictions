{
 "cells": [
  {
   "cell_type": "code",
   "execution_count": 1,
   "metadata": {},
   "outputs": [],
   "source": [
    "import vmd_contact\n",
    "import _heatmap_no_bar\n",
    "from _heatmap_no_bar import *\n",
    "import os\n",
    "import matplotlib\n",
    "import matplotlib.pyplot as plt\n",
    "import warnings\n",
    "import numpy as np\n",
    "warnings.filterwarnings('ignore')\n",
    "font = {'size': 11, 'weight':'bold'}\n",
    "matplotlib.rc('font', **font)\n"
   ]
  },
  {
   "cell_type": "code",
   "execution_count": 2,
   "metadata": {},
   "outputs": [],
   "source": [
    "def filter_dist_matrix(distance_matrix,receptor_labels,ligand_labels,cutoff,max_value):\n",
    "    filtered_rec_labels = []\n",
    "    filtered_lig_labels = []\n",
    "    for i in range(len(receptor_labels)):\n",
    "        for j in range(len(ligand_labels)):\n",
    "            if distance_matrix[i][j]<cutoff:\n",
    "                filtered_rec_labels.append(receptor_labels[i])\n",
    "                filtered_lig_labels.append(ligand_labels[j])\n",
    "    filtered_rec_labels = sorted(list(set(filtered_rec_labels)))\n",
    "    filtered_lig_labels = sorted(list(set(filtered_lig_labels)))\n",
    "    print (filtered_rec_labels)\n",
    "    print (filtered_lig_labels)\n",
    "    \n",
    "    new_matrix = np.full((len(filtered_rec_labels), len(filtered_lig_labels)), max_value, dtype= float)\n",
    "    \n",
    "    for i in range(len(receptor_labels)):\n",
    "        for j in range(len(ligand_labels)):\n",
    "            if distance_matrix[i][j]<cutoff:\n",
    "                filtered_rec_index = [f for f in range(len(filtered_rec_labels)) if filtered_rec_labels[f]==receptor_labels[i]][0]\n",
    "                filtered_lig_index = [f for f in range(len(filtered_lig_labels)) if filtered_lig_labels[f]==ligand_labels[j]][0]\n",
    "                new_matrix[filtered_rec_index][filtered_lig_index] = distance_matrix[i][j]\n",
    "    return new_matrix, filtered_rec_labels, filtered_lig_labels\n",
    "\n",
    "def rewrite_ligand_labels(ligand_labels):\n",
    "    new_labels = []\n",
    "    for l in ligand_labels:\n",
    "        new_labels.append(\"%3d\"%(int(l.split()[0])-8)+' '+l.split()[1])\n",
    "    return new_labels"
   ]
  },
  {
   "cell_type": "code",
   "execution_count": 3,
   "metadata": {},
   "outputs": [],
   "source": [
    "top_pdb = '6i6h.pdb'\n",
    "if not os.path.exists('6i6h.pdb'):\n",
    "    os.system('wget https://files.rcsb.org/download/6i6h.pdb --no-check-certificate')"
   ]
  },
  {
   "cell_type": "code",
   "execution_count": 4,
   "metadata": {},
   "outputs": [],
   "source": [
    "receptor_chain_ID = 'A'\n",
    "ligand_chain_ID = 'B'\n",
    "receptor_resids = [5,9,47,48,50,54,55,56,59,60,63,64,67,111,112,116,117,120,158,159,162,165,166,169,177]\n",
    "lig_resids = [2,3,4,5,6,7]\n",
    "traj = None\n",
    "cutoff = 4.5"
   ]
  },
  {
   "cell_type": "code",
   "execution_count": 5,
   "metadata": {},
   "outputs": [
    {
     "name": "stderr",
     "output_type": "stream",
     "text": [
      " 44%|████▍     | 11/25 [00:00<00:00, 109.16it/s]"
     ]
    },
    {
     "name": "stdout",
     "output_type": "stream",
     "text": [
      "range 5 to 177 residues are used for calculating contact frequency.\n",
      "Distance calculate based on pdb frame.\n"
     ]
    },
    {
     "name": "stderr",
     "output_type": "stream",
     "text": [
      "100%|██████████| 25/25 [00:00<00:00, 115.83it/s]"
     ]
    },
    {
     "name": "stdout",
     "output_type": "stream",
     "text": [
      "(6, 25)\n",
      "[' -6 A', ' -5 E', ' -4 K', ' -3 D', ' -2 E', ' -1 L']\n"
     ]
    },
    {
     "name": "stderr",
     "output_type": "stream",
     "text": [
      "\n"
     ]
    }
   ],
   "source": [
    "record_keyword = top_pdb[:-4]+'_chain'+receptor_chain_ID+'vs'+ligand_chain_ID\n",
    "step = vmd_contact.Distance(top_pdb, receptor_chain_ID, ligand_chain_ID, traj, lig_resids, receptor_resids)\n",
    "distance_matrix,receptor_labels,ligand_labels = step.contact_dist_vmd_heavy()\n",
    "\n",
    "new_matrix =np.zeros((distance_matrix.shape[1], distance_matrix.shape[0]))\n",
    "for i in range(distance_matrix.shape[1]):\n",
    "    for j in range(distance_matrix.shape[0]):\n",
    "        new_matrix[i][j]=distance_matrix[j][i]\n",
    "#new_lig_labels = rewrite_ligand_labels(ligand_labels)\n",
    "new_lig_labels = [ ' -6 A', ' -5 E', ' -4 K', ' -3 D', ' -2 E', ' -1 L']\n",
    "rec_labels = ['  5 R','  9 D',' 47 R',' 48 Y',' 50 D',' 54 S', ' 55 F',' 56 I',' 59 Y',' 60 N',' 63 M',' 64 K',' 67 Y','111 H','112 D','116 L','117 E','120 W','158 Y','159 R','162 Y','165 N','166 W','169 R','177 D']\n",
    "\n",
    "print (new_matrix.shape)\n",
    "print (new_lig_labels)"
   ]
  },
  {
   "cell_type": "code",
   "execution_count": 6,
   "metadata": {},
   "outputs": [
    {
     "data": {
      "text/plain": [
       "Text(0.5, 0, 'receptor residues')"
      ]
     },
     "execution_count": 6,
     "metadata": {},
     "output_type": "execute_result"
    },
    {
     "data": {
      "text/plain": [
       "<Figure size 432x288 with 0 Axes>"
      ]
     },
     "metadata": {},
     "output_type": "display_data"
    },
    {
     "data": {
      "image/png": "[encoded data removed]",
      "text/plain": [
       "<Figure size 864x216 with 1 Axes>"
      ]
     },
     "metadata": {
      "needs_background": "light"
     },
     "output_type": "display_data"
    }
   ],
   "source": [
    "plt.clf()\n",
    "plt.figure(figsize=(12,3))\n",
    "plot_index = 1\n",
    "ax = plt.subplot(1, 1, plot_index)\n",
    "cutoff = 4.5\n",
    "max_value = cutoff\n",
    "\n",
    "def binary_matrix(data_matrix, cutoff_value):\n",
    "    new_mat = np.zeros((data_matrix.shape[0], data_matrix.shape[1]))\n",
    "    for i in range(data_matrix.shape[0]):\n",
    "        for j in range(data_matrix.shape[1]):\n",
    "            if data_matrix[i][j] < cutoff_value:\n",
    "                new_mat[i][j] = 1\n",
    "            else:\n",
    "                new_mat[i][j] = 0 \n",
    "    return new_mat\n",
    "\n",
    "im,cbar = heatmap(binary_matrix(new_matrix, cutoff),new_lig_labels,rec_labels, ax=ax,cmap=\"Blues\", vmax=1, cbarlabel=\"Distance\")\n",
    "#texts = annotate_heatmap(im, valfmt=\"{x:.1f}\", size=8)\n",
    "ax.set_title('xtal structure')\n",
    "plt.ylabel('peptide residues',**font)\n",
    "plt.xlabel('receptor residues',**font)\n",
    "\n"
   ]
  },
  {
   "cell_type": "markdown",
   "metadata": {},
   "source": [
    "## Below this figure was used in the manuscript."
   ]
  },
  {
   "cell_type": "code",
   "execution_count": 10,
   "metadata": {},
   "outputs": [
    {
     "name": "stderr",
     "output_type": "stream",
     "text": [
      " 44%|████▍     | 11/25 [00:00<00:00, 104.93it/s]"
     ]
    },
    {
     "name": "stdout",
     "output_type": "stream",
     "text": [
      "range 5 to 177 residues are used for calculating contact frequency.\n",
      "Distance calculate based on pdb frame.\n"
     ]
    },
    {
     "name": "stderr",
     "output_type": "stream",
     "text": [
      "100%|██████████| 25/25 [00:00<00:00, 122.52it/s]\n"
     ]
    },
    {
     "name": "stdout",
     "output_type": "stream",
     "text": [
      "(6, 25)\n",
      "[' -6 A', ' -5 E', ' -4 K', ' -3 D', ' -2 E', ' -1 L']\n"
     ]
    },
    {
     "data": {
      "text/plain": [
       "<Figure size 432x288 with 0 Axes>"
      ]
     },
     "metadata": {},
     "output_type": "display_data"
    },
    {
     "data": {
      "image/png": "[encoded data removed]",
      "text/plain": [
       "<Figure size 432x216 with 1 Axes>"
      ]
     },
     "metadata": {
      "needs_background": "light"
     },
     "output_type": "display_data"
    }
   ],
   "source": [
    "receptor_chain_ID = 'A'\n",
    "ligand_chain_ID = 'B'\n",
    "receptor_resids = [5,9,47,48,50,54,55,56,59,60,63,64,67,111,112,116,117,120,158,159,162,165,166,169,177]\n",
    "lig_resids = [2,3,4,5,6,7]\n",
    "traj = None\n",
    "cutoff = 4.5\n",
    "record_keyword = top_pdb[:-4]+'_chain'+receptor_chain_ID+'vs'+ligand_chain_ID\n",
    "step = vmd_contact.Distance(top_pdb, receptor_chain_ID, ligand_chain_ID, traj, lig_resids, receptor_resids)\n",
    "distance_matrix,receptor_labels,ligand_labels = step.contact_dist_vmd_heavy()\n",
    "\n",
    "new_matrix =np.zeros((distance_matrix.shape[1], distance_matrix.shape[0]))\n",
    "for i in range(distance_matrix.shape[1]):\n",
    "    for j in range(distance_matrix.shape[0]):\n",
    "        new_matrix[i][j]=distance_matrix[j][i]\n",
    "#new_lig_labels = rewrite_ligand_labels(ligand_labels)\n",
    "new_lig_labels = [ ' -6 A', ' -5 E', ' -4 K', ' -3 D', ' -2 E', ' -1 L']\n",
    "rec_labels = ['  5 R','  9 D',' 47 R',' 48 Y',' 50 D',' 54 S', ' 55 F',' 56 I',' 59 Y',' 60 N',' 63 M',' 64 K',' 67 Y','111 H','112 D','116 L','117 E','120 W','158 Y','159 R','162 Y','165 N','166 W','169 R','177 D']\n",
    "\n",
    "print (new_matrix.shape)\n",
    "print (new_lig_labels)\n",
    "plt.clf()\n",
    "fig, ax = plt.subplots(figsize=(6,3))\n",
    "\n",
    "cutoff = 4.5\n",
    "max_value = cutoff\n",
    "\n",
    "def binary_matrix(data_matrix, cutoff_value):\n",
    "    new_mat = np.zeros((data_matrix.shape[0], data_matrix.shape[1]))\n",
    "    for i in range(data_matrix.shape[0]):\n",
    "        for j in range(data_matrix.shape[1]):\n",
    "            if data_matrix[i][j] < cutoff_value:\n",
    "                new_mat[i][j] = 1\n",
    "            else:\n",
    "                new_mat[i][j] = 0 \n",
    "    return new_mat\n",
    "\n",
    "im,cbar = heatmap(binary_matrix(new_matrix, cutoff),new_lig_labels,rec_labels, ax=ax,cmap=\"Blues\", vmax=1, cbarlabel=\"Distance\")\n",
    "#texts = annotate_heatmap(im, valfmt=\"{x:.1f}\", size=8)\n",
    "ax.set_title('crystal structure PDB ID: 6I6H')\n",
    "\n",
    "#plt.ylabel('peptide residues',**font)\n",
    "#plt.xlabel('receptor residues',**font)\n",
    "plt.tight_layout()\n",
    "\n",
    "plt.savefig('/home/bxie/xtal_heatmap.png')"
   ]
  },
  {
   "cell_type": "code",
   "execution_count": null,
   "metadata": {},
   "outputs": [],
   "source": []
  }
 ],
 "metadata": {
  "kernelspec": {
   "display_name": "Python 3",
   "language": "python",
   "name": "python3"
  },
  "language_info": {
   "codemirror_mode": {
    "name": "ipython",
    "version": 3
   },
   "file_extension": ".py",
   "mimetype": "text/x-python",
   "name": "python",
   "nbconvert_exporter": "python",
   "pygments_lexer": "ipython3",
   "version": "3.8.3"
  }
 },
 "nbformat": 4,
 "nbformat_minor": 4
}
