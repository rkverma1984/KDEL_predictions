{
 "cells": [
  {
   "cell_type": "code",
   "execution_count": 1,
   "metadata": {
    "collapsed": true
   },
   "outputs": [],
   "source": [
    "%matplotlib inline\n",
    "import matplotlib.pyplot as plt"
   ]
  },
  {
   "cell_type": "code",
   "execution_count": 13,
   "metadata": {
    "collapsed": true
   },
   "outputs": [],
   "source": [
    "import pandas as pd\n",
    "import numpy as np\n",
    "from itertools import product"
   ]
  },
  {
   "cell_type": "code",
   "execution_count": 3,
   "metadata": {
    "collapsed": false
   },
   "outputs": [],
   "source": [
    "from Bio import SeqIO\n",
    "import requests\n",
    "from StringIO import StringIO "
   ]
  },
  {
   "cell_type": "code",
   "execution_count": 8,
   "metadata": {
    "collapsed": false
   },
   "outputs": [],
   "source": [
    "from sklearn.ensemble import RandomForestRegressor\n",
    "from sklearn.ensemble import GradientBoostingRegressor\n",
    "from sklearn import cross_validation\n",
    "from sklearn.cross_validation import cross_val_score\n",
    "from sklearn import svm\n",
    "import sklearn"
   ]
  },
  {
   "cell_type": "markdown",
   "metadata": {
    "collapsed": true
   },
   "source": [
    "Processing the data\n",
    "---------"
   ]
  },
  {
   "cell_type": "code",
   "execution_count": 4,
   "metadata": {
    "collapsed": false
   },
   "outputs": [
    {
     "name": "stderr",
     "output_type": "stream",
     "text": [
      "/share/apps/python/anaconda-4.2.0/lib/python2.7/site-packages/ipykernel/__main__.py:19: SettingWithCopyWarning: \n",
      "A value is trying to be set on a copy of a slice from a DataFrame\n",
      "\n",
      "See the caveats in the documentation: http://pandas.pydata.org/pandas-docs/stable/indexing.html#indexing-view-versus-copy\n"
     ]
    }
   ],
   "source": [
    "# parse the excel into pandas dataframe\n",
    "\n",
    "df = pd.read_excel('SERCaMP Library Gene List with mass spec.xlsx', header = 1, parse_cols='B:Q')\n",
    "\n",
    "df = df.dropna(axis = 0, how = 'all')\n",
    "\n",
    "s = pd.Series([''.join(df.iloc[i, 4:11]) for i in range(df.shape[0])])\n",
    "df['tail'] = s.values\n",
    "\n",
    "n_pos = np.where(df.index.values == 'SERCaMP (+)')[0][0] \n",
    "label = [0] * n_pos + [1] * (df.shape[0] - n_pos)\n",
    "df['Label'] = label\n",
    "\n",
    "df = df.drop(['Number', 'Amino Acids'] + ['Unnamed: %d' %(i+5) for i in range(7)], axis = 1)\n",
    "\n",
    "df = df.set_index('UniProt ')\n",
    "\n",
    "# here I know this one is wrong, so I correct it\n",
    "df['tail'][34] = 'PQPRDEL'"
   ]
  },
  {
   "cell_type": "code",
   "execution_count": 4,
   "metadata": {
    "collapsed": true
   },
   "outputs": [],
   "source": [
    "# df.to_pickle('tail_response.df')"
   ]
  },
  {
   "cell_type": "code",
   "execution_count": null,
   "metadata": {
    "collapsed": true
   },
   "outputs": [],
   "source": []
  },
  {
   "cell_type": "code",
   "execution_count": null,
   "metadata": {
    "collapsed": false
   },
   "outputs": [],
   "source": [
    "# get the whole seq from uniprot\n",
    "# not really needed for the analysis below\n",
    "\n",
    "def getFasta(code):\n",
    "    if len(code.split(',')) == 2: code = code.split(',')[0]\n",
    "    params = {\"query\": code, \"format\": \"fasta\"}\n",
    "    response = requests.get(\"http://www.uniprot.org/uniprot/\", params)\n",
    "\n",
    "    for r in SeqIO.parse(StringIO(response.text), \"fasta\"): \n",
    "        return str(r.seq)\n",
    "\n",
    "fullSeq = [getFasta(code) for code in df.index]\n",
    "\n",
    "# verify all the sequences are correct\n",
    "for i, code in enumerate(df.index):\n",
    "    if fullSeq[i][-7:] != df['tail'][i]: print i, code\n",
    "\n",
    "df['fullSeq'] = fullSeq"
   ]
  },
  {
   "cell_type": "code",
   "execution_count": 14,
   "metadata": {
    "collapsed": false,
    "scrolled": true
   },
   "outputs": [
    {
     "data": {
      "text/html": [
       "<div>\n",
       "<table border=\"1\" class=\"dataframe\">\n",
       "  <thead>\n",
       "    <tr style=\"text-align: right;\">\n",
       "      <th></th>\n",
       "      <th>Protein Name</th>\n",
       "      <th>Gene</th>\n",
       "      <th>Tg Response - 24hr</th>\n",
       "      <th>Tg Response - 8hr</th>\n",
       "      <th>Mass Spec Response</th>\n",
       "      <th>tail</th>\n",
       "      <th>Label</th>\n",
       "      <th>fullSeq</th>\n",
       "    </tr>\n",
       "    <tr>\n",
       "      <th>UniProt</th>\n",
       "      <th></th>\n",
       "      <th></th>\n",
       "      <th></th>\n",
       "      <th></th>\n",
       "      <th></th>\n",
       "      <th></th>\n",
       "      <th></th>\n",
       "      <th></th>\n",
       "    </tr>\n",
       "  </thead>\n",
       "  <tbody>\n",
       "    <tr>\n",
       "      <th>Q13438</th>\n",
       "      <td>Protein OS-9</td>\n",
       "      <td>OS9</td>\n",
       "      <td>0.850897</td>\n",
       "      <td>0.938353</td>\n",
       "      <td>NaN</td>\n",
       "      <td>DLDEFDF</td>\n",
       "      <td>0</td>\n",
       "      <td>MAAETLLSSLLGLLLLGLLLPASLTGGVGSLNLEELSEMRYGIEIL...</td>\n",
       "    </tr>\n",
       "    <tr>\n",
       "      <th>P01298</th>\n",
       "      <td>Pancreatic prohormone</td>\n",
       "      <td>PPY</td>\n",
       "      <td>1.027749</td>\n",
       "      <td>0.935511</td>\n",
       "      <td>NaN</td>\n",
       "      <td>ELSPLDL</td>\n",
       "      <td>0</td>\n",
       "      <td>MAAARLCLSLLLLSTCVALLLQPLLGAQGAPLEPVYPGDNATPEQM...</td>\n",
       "    </tr>\n",
       "    <tr>\n",
       "      <th>Q14113</th>\n",
       "      <td>Adipocyte enhancer-binding protein 1</td>\n",
       "      <td>AEBP1</td>\n",
       "      <td>1.202366</td>\n",
       "      <td>1.156462</td>\n",
       "      <td>NaN</td>\n",
       "      <td>TVNFGDF</td>\n",
       "      <td>0</td>\n",
       "      <td>MAAVRGAPLLSCLLALLALCPGGRPQTVLTDDEIEEFLEGFLSELE...</td>\n",
       "    </tr>\n",
       "    <tr>\n",
       "      <th>Q12860</th>\n",
       "      <td>Contactin-1</td>\n",
       "      <td>CNTN1</td>\n",
       "      <td>1.173510</td>\n",
       "      <td>1.335114</td>\n",
       "      <td>0.865912</td>\n",
       "      <td>ILVYLEF</td>\n",
       "      <td>0</td>\n",
       "      <td>MKMWLLVSHLVIISITTCLAEFTWYRRYGHGVSEEDKGFGPIFEEQ...</td>\n",
       "    </tr>\n",
       "    <tr>\n",
       "      <th>Q9BLZ2</th>\n",
       "      <td>\"Untagged\" Gaussia Luciferase</td>\n",
       "      <td>Untagged</td>\n",
       "      <td>1.106812</td>\n",
       "      <td>0.903370</td>\n",
       "      <td>NaN</td>\n",
       "      <td>IKGAGGD</td>\n",
       "      <td>0</td>\n",
       "      <td>MGVKVLFALICIAVAEAKPTENNEDFNIVAVASNFATTDLDADRGK...</td>\n",
       "    </tr>\n",
       "  </tbody>\n",
       "</table>\n",
       "</div>"
      ],
      "text/plain": [
       "                                  Protein Name      Gene  Tg Response - 24hr  \\\n",
       "UniProt                                                                        \n",
       "Q13438                            Protein OS-9       OS9            0.850897   \n",
       "P01298                   Pancreatic prohormone      PPY             1.027749   \n",
       "Q14113    Adipocyte enhancer-binding protein 1     AEBP1            1.202366   \n",
       "Q12860                             Contactin-1    CNTN1             1.173510   \n",
       "Q9BLZ2           \"Untagged\" Gaussia Luciferase  Untagged            1.106812   \n",
       "\n",
       "          Tg Response - 8hr  Mass Spec Response     tail  Label  \\\n",
       "UniProt                                                           \n",
       "Q13438             0.938353                 NaN  DLDEFDF      0   \n",
       "P01298             0.935511                 NaN  ELSPLDL      0   \n",
       "Q14113             1.156462                 NaN  TVNFGDF      0   \n",
       "Q12860             1.335114            0.865912  ILVYLEF      0   \n",
       "Q9BLZ2             0.903370                 NaN  IKGAGGD      0   \n",
       "\n",
       "                                                    fullSeq  \n",
       "UniProt                                                      \n",
       "Q13438    MAAETLLSSLLGLLLLGLLLPASLTGGVGSLNLEELSEMRYGIEIL...  \n",
       "P01298    MAAARLCLSLLLLSTCVALLLQPLLGAQGAPLEPVYPGDNATPEQM...  \n",
       "Q14113    MAAVRGAPLLSCLLALLALCPGGRPQTVLTDDEIEEFLEGFLSELE...  \n",
       "Q12860    MKMWLLVSHLVIISITTCLAEFTWYRRYGHGVSEEDKGFGPIFEEQ...  \n",
       "Q9BLZ2    MGVKVLFALICIAVAEAKPTENNEDFNIVAVASNFATTDLDADRGK...  "
      ]
     },
     "execution_count": 14,
     "metadata": {},
     "output_type": "execute_result"
    }
   ],
   "source": [
    "df.head()"
   ]
  },
  {
   "cell_type": "code",
   "execution_count": 3,
   "metadata": {
    "collapsed": true
   },
   "outputs": [],
   "source": [
    "# df = pd.read_pickle('tail_response.df')"
   ]
  },
  {
   "cell_type": "markdown",
   "metadata": {},
   "source": [
    "conjoint triad method\n",
    "----------"
   ]
  },
  {
   "cell_type": "code",
   "execution_count": 5,
   "metadata": {
    "collapsed": true
   },
   "outputs": [],
   "source": [
    "# group the a.a. into 7 groups\n",
    "\n",
    "aa2num = {'A': 1, 'G': 1, 'V': 1, 'I': 2, 'L': 2, 'F': 2, 'P': 2, \n",
    "          'Y': 3, 'M': 3, 'T': 3, 'S': 3, 'H': 4, 'N': 4, 'Q': 4,\n",
    "          'W': 4, 'R': 5, 'K': 5, 'D': 6, 'E': 6, 'C': 7}\n",
    "\n",
    "num2aa = {1: ['A', 'G', 'V'], 2: ['I', 'L', 'F', 'P'], 3: ['Y', 'M', 'T', 'S'],\n",
    "          4: ['N', 'Q', 'W'], 5: ['R', 'K'], 6: ['D', 'E'], 7: ['C']}"
   ]
  },
  {
   "cell_type": "code",
   "execution_count": 6,
   "metadata": {
    "collapsed": true
   },
   "outputs": [],
   "source": [
    "def ct_code(seq):\n",
    "    \"\"\" generate the CT vector \"\"\"\n",
    "    num_code = [aa2num[s] for s in seq]\n",
    "    triple_code = [num_code[i:i+3] for i in range(len(num_code) - 2)]\n",
    "    ct = np.zeros(343, dtype=float)\n",
    "    \n",
    "    for c in triple_code:\n",
    "        index = (c[2] - 1) * 49 + (c[1] - 1) * 7 + c[0] - 1\n",
    "        ct[index] += 1\n",
    "        \n",
    "    return ct / ct.sum()"
   ]
  },
  {
   "cell_type": "code",
   "execution_count": 7,
   "metadata": {
    "collapsed": false,
    "scrolled": true
   },
   "outputs": [],
   "source": [
    "# build the dataset using CT methods\n",
    "\n",
    "x = [ct_code(s) for s in df['tail']]\n",
    "y = df['Tg Response - 8hr'].values"
   ]
  },
  {
   "cell_type": "markdown",
   "metadata": {},
   "source": [
    "Random Forest Regression\n",
    "---------"
   ]
  },
  {
   "cell_type": "code",
   "execution_count": null,
   "metadata": {
    "collapsed": true
   },
   "outputs": [],
   "source": [
    "estimator = RandomForestRegressor(random_state=42)\n",
    "param = {'n_estimators': (50, 100, 500), 'max_features': ['auto', 'sqrt', 'log2'], \n",
    "         'max_depth': [4, 5, 6]}\n",
    "\n",
    "clf = sklearn.grid_search.GridSearchCV(estimator, param, n_jobs = -1)\n",
    "clf.fit(x, y)"
   ]
  },
  {
   "cell_type": "code",
   "execution_count": 208,
   "metadata": {
    "collapsed": false
   },
   "outputs": [
    {
     "name": "stdout",
     "output_type": "stream",
     "text": [
      "{'max_features': 'sqrt', 'n_estimators': 50, 'max_depth': 4} -0.965782736809\n"
     ]
    }
   ],
   "source": [
    "print clf.best_params_,  clf.best_score_"
   ]
  },
  {
   "cell_type": "code",
   "execution_count": 213,
   "metadata": {
    "collapsed": false
   },
   "outputs": [
    {
     "name": "stdout",
     "output_type": "stream",
     "text": [
      "{'max_features': 'sqrt', 'n_estimators': 50, 'max_depth': 4} -0.965782736809\n"
     ]
    }
   ],
   "source": [
    "estimator = RandomForestRegressor(random_state=42)\n",
    "param = {'n_estimators': (20, 50, 70), 'max_features': ['auto', 'sqrt', 'log2'], \n",
    "         'max_depth': [2, 3, 4]}\n",
    "\n",
    "clf = sklearn.grid_search.GridSearchCV(estimator, param, n_jobs = -1)\n",
    "clf.fit(x, y)\n",
    "print clf.best_params_,  clf.best_score_"
   ]
  },
  {
   "cell_type": "markdown",
   "metadata": {},
   "source": [
    "Gradient Boosting Regression\n",
    "------------"
   ]
  },
  {
   "cell_type": "code",
   "execution_count": 212,
   "metadata": {
    "collapsed": false,
    "scrolled": true
   },
   "outputs": [
    {
     "name": "stdout",
     "output_type": "stream",
     "text": [
      "{'max_features': 'sqrt', 'n_estimators': 50, 'learning_rate': 0.1, 'max_depth': 4, 'subsample': 0.5} -0.847122983253\n"
     ]
    }
   ],
   "source": [
    "estimator = GradientBoostingRegressor(random_state=42)\n",
    "param = {'learning_rate': [1e-4, 1e-3, 1e-2, 1e-1, 1], 'n_estimators': (50, 100, 500), \n",
    "         'max_features': ['auto', 'sqrt', 'log2'], 'subsample': [0.5, 0.8, 1], \n",
    "         'max_depth': [3, 4, 5, 6]}\n",
    "clf = sklearn.grid_search.GridSearchCV(estimator, param, n_jobs = -1)\n",
    "clf.fit(x, y)\n",
    "print clf.best_params_,  clf.best_score_"
   ]
  },
  {
   "cell_type": "code",
   "execution_count": 214,
   "metadata": {
    "collapsed": false
   },
   "outputs": [
    {
     "name": "stdout",
     "output_type": "stream",
     "text": [
      "{'max_features': 'sqrt', 'n_estimators': 50, 'learning_rate': 0.1, 'max_depth': 4, 'subsample': 0.5} -0.847122983253\n"
     ]
    }
   ],
   "source": [
    "estimator = GradientBoostingRegressor(random_state=42)\n",
    "param = {'learning_rate': [1e-1], 'n_estimators': (30, 50, 70), \n",
    "         'max_features': ['auto', 'sqrt', 'log2'], 'subsample': [0.3, 0.4, 0.5, 0.6], \n",
    "         'max_depth': [4]}\n",
    "clf = sklearn.grid_search.GridSearchCV(estimator, param, n_jobs = -1)\n",
    "clf.fit(x, y)\n",
    "print clf.best_params_,  clf.best_score_"
   ]
  },
  {
   "cell_type": "markdown",
   "metadata": {},
   "source": [
    "Support Vector Regression\n",
    "----------"
   ]
  },
  {
   "cell_type": "code",
   "execution_count": 217,
   "metadata": {
    "collapsed": false
   },
   "outputs": [
    {
     "name": "stdout",
     "output_type": "stream",
     "text": [
      "{'kernel': 'poly', 'C': 10, 'degree': 4, 'epsilon': 0.1, 'coef0': 1, 'gamma': 0.1} -0.859667277421\n"
     ]
    }
   ],
   "source": [
    "estimator = svm.SVR()\n",
    "param = {'C': (0.01, 0.1, 1, 10), 'epsilon':(0.01, 0.1, 1, 10), 'kernel': ('rbf', 'linear', 'poly', 'sigmoid'),\n",
    "         'degree': (2, 3, 4), 'gamma': (1e-3, 1e-2, 1e-1), 'coef0': (1e-1, 0, 1)}\n",
    "\n",
    "clf = sklearn.grid_search.GridSearchCV(estimator, param, n_jobs = -1)\n",
    "clf.fit(x, y)\n",
    "print clf.best_params_,  clf.best_score_"
   ]
  },
  {
   "cell_type": "code",
   "execution_count": 22,
   "metadata": {
    "collapsed": false,
    "scrolled": true
   },
   "outputs": [
    {
     "name": "stdout",
     "output_type": "stream",
     "text": [
      "{'kernel': 'poly', 'C': 10, 'degree': 5, 'epsilon': 0.1, 'coef0': 1, 'gamma': 0.1} -0.859330202206\n"
     ]
    }
   ],
   "source": [
    "estimator = svm.SVR()\n",
    "param = {'C': (10, 100), 'epsilon':(0.1, ), 'kernel': ('poly',),\n",
    "         'degree': (4, 5), 'gamma': (1e-1, 1), 'coef0': (1, 10)}\n",
    "\n",
    "clf = sklearn.grid_search.GridSearchCV(estimator, param, n_jobs = -1)\n",
    "clf.fit(x, y)\n",
    "print clf.best_params_,  clf.best_score_"
   ]
  },
  {
   "cell_type": "code",
   "execution_count": 64,
   "metadata": {
    "collapsed": false
   },
   "outputs": [
    {
     "name": "stdout",
     "output_type": "stream",
     "text": [
      "{'kernel': 'linear', 'C': 1, 'degree': 2, 'epsilon': 0.1, 'coef0': 0.1, 'gamma': 0.001} -0.923943340339\n"
     ]
    }
   ],
   "source": [
    "estimator = svm.SVR()\n",
    "param = {'C': (0.01, 0.1, 1, 10), 'epsilon':(0.01, 0.1, 1, 10), 'kernel': ('linear',),\n",
    "         'degree': (2, 3, 4), 'gamma': (1e-3, 1e-2, 1e-1), 'coef0': (1e-1, 0, 1)}\n",
    "\n",
    "clf = sklearn.grid_search.GridSearchCV(estimator, param, n_jobs = -1)\n",
    "clf.fit(x, y)\n",
    "print clf.best_params_,  clf.best_score_"
   ]
  },
  {
   "cell_type": "markdown",
   "metadata": {
    "collapsed": true
   },
   "source": [
    "Autocovariance method\n",
    "-----------"
   ]
  },
  {
   "cell_type": "code",
   "execution_count": 9,
   "metadata": {
    "collapsed": false
   },
   "outputs": [],
   "source": [
    "# read in the a.a. chemphysical property data\n",
    "aa_property = pd.read_csv('aa_property.csv', header=None, index_col=0)"
   ]
  },
  {
   "cell_type": "code",
   "execution_count": 10,
   "metadata": {
    "collapsed": false
   },
   "outputs": [],
   "source": [
    "def autocovar(seq, lag = 1):\n",
    "    n = len(seq)\n",
    "    result = np.zeros(7)\n",
    "    property_m = np.array([])\n",
    "    \n",
    "    for aa in seq:\n",
    "        if property_m.size == 0: property_m = aa_property.loc[aa]\n",
    "        else: property_m = np.vstack((property_m, aa_property.loc[aa]))\n",
    "    \n",
    "    mean_property = np.mean(property_m, axis = 0)\n",
    "    \n",
    "    for i in range(7):\n",
    "        for j in range(n - lag):\n",
    "            result[i] += (property_m[j, i] - mean_property[i]) * (property_m[j + lag, i] - mean_property[i])\n",
    "        \n",
    "        result[i] /= (n - lag)\n",
    "    \n",
    "    return result"
   ]
  },
  {
   "cell_type": "code",
   "execution_count": 11,
   "metadata": {
    "collapsed": false
   },
   "outputs": [],
   "source": [
    "ac_x_1 = [autocovar(s) for s in df['tail']]\n",
    "ac_x_2 = [autocovar(s, 2) for s in df['tail']]\n",
    "ac_x_3 = [autocovar(s, 3) for s in df['tail']]"
   ]
  },
  {
   "cell_type": "code",
   "execution_count": 81,
   "metadata": {
    "collapsed": false
   },
   "outputs": [
    {
     "name": "stdout",
     "output_type": "stream",
     "text": [
      "{'max_features': 'sqrt', 'n_estimators': 500, 'max_depth': 4} -4.94904177194\n"
     ]
    }
   ],
   "source": [
    "estimator = RandomForestRegressor(random_state=42)\n",
    "param = {'n_estimators': (50, 100, 500), 'max_features': ['auto', 'sqrt', 'log2'], \n",
    "         'max_depth': [4, 5, 6]}\n",
    "\n",
    "clf = sklearn.grid_search.GridSearchCV(estimator, param, n_jobs = -1)\n",
    "clf.fit(ac_x_1, y)\n",
    "\n",
    "print clf.best_params_,  clf.best_score_"
   ]
  },
  {
   "cell_type": "code",
   "execution_count": 82,
   "metadata": {
    "collapsed": false
   },
   "outputs": [
    {
     "name": "stdout",
     "output_type": "stream",
     "text": [
      "{'max_features': 'sqrt', 'n_estimators': 5000, 'max_depth': 2} -4.6506020282\n"
     ]
    }
   ],
   "source": [
    "estimator = RandomForestRegressor(random_state=42)\n",
    "param = {'n_estimators': (2000, 5000), 'max_features': ['auto', 'sqrt', 'log2'], \n",
    "         'max_depth': [2, 3, 4]}\n",
    "\n",
    "clf = sklearn.grid_search.GridSearchCV(estimator, param, n_jobs = -1)\n",
    "clf.fit(ac_x_1, y)\n",
    "\n",
    "print clf.best_params_,  clf.best_score_"
   ]
  },
  {
   "cell_type": "code",
   "execution_count": 83,
   "metadata": {
    "collapsed": false
   },
   "outputs": [
    {
     "name": "stdout",
     "output_type": "stream",
     "text": [
      "{'max_features': 'sqrt', 'n_estimators': 100, 'max_depth': 3} -5.27422738684\n"
     ]
    }
   ],
   "source": [
    "estimator = RandomForestRegressor(random_state=42)\n",
    "param = {'n_estimators': (50, 100, 500), 'max_features': ['auto', 'sqrt', 'log2'], \n",
    "         'max_depth': [3, 4, 5]}\n",
    "\n",
    "clf = sklearn.grid_search.GridSearchCV(estimator, param, n_jobs = -1)\n",
    "clf.fit(ac_x_2, y)\n",
    "\n",
    "print clf.best_params_,  clf.best_score_"
   ]
  },
  {
   "cell_type": "code",
   "execution_count": 84,
   "metadata": {
    "collapsed": false
   },
   "outputs": [
    {
     "name": "stdout",
     "output_type": "stream",
     "text": [
      "{'max_features': 'sqrt', 'n_estimators': 500, 'max_depth': 3} -5.17104829218\n"
     ]
    }
   ],
   "source": [
    "estimator = RandomForestRegressor(random_state=42)\n",
    "param = {'n_estimators': (50, 100, 500), 'max_features': ['auto', 'sqrt', 'log2'], \n",
    "         'max_depth': [3, 4, 5]}\n",
    "\n",
    "clf = sklearn.grid_search.GridSearchCV(estimator, param, n_jobs = -1)\n",
    "clf.fit(ac_x_3, y)\n",
    "\n",
    "print clf.best_params_,  clf.best_score_"
   ]
  },
  {
   "cell_type": "code",
   "execution_count": 85,
   "metadata": {
    "collapsed": false
   },
   "outputs": [
    {
     "name": "stdout",
     "output_type": "stream",
     "text": [
      "{'max_features': 'auto', 'n_estimators': 50, 'learning_rate': 0.01, 'max_depth': 6, 'subsample': 0.8} -4.32814733813\n"
     ]
    }
   ],
   "source": [
    "estimator = GradientBoostingRegressor(random_state=42)\n",
    "param = {'learning_rate': [1e-4, 1e-3, 1e-2, 1e-1, 1], 'n_estimators': (50, 100, 500), \n",
    "         'max_features': ['auto', 'sqrt', 'log2'], 'subsample': [0.5, 0.8, 1], \n",
    "         'max_depth': [3, 4, 5, 6]}\n",
    "clf = sklearn.grid_search.GridSearchCV(estimator, param, n_jobs = -1)\n",
    "clf.fit(ac_x_1, y)\n",
    "print clf.best_params_,  clf.best_score_"
   ]
  },
  {
   "cell_type": "code",
   "execution_count": 22,
   "metadata": {
    "collapsed": false
   },
   "outputs": [
    {
     "name": "stdout",
     "output_type": "stream",
     "text": [
      "{'max_features': 'auto', 'n_estimators': 500, 'learning_rate': 0.1, 'max_depth': 5, 'subsample': 0.5} -1.04733136404\n"
     ]
    }
   ],
   "source": [
    "estimator = GradientBoostingRegressor(random_state=42)\n",
    "param = {'learning_rate': [1e-4, 1e-3, 1e-2, 1e-1, 1], 'n_estimators': (50, 100, 500), \n",
    "         'max_features': ['auto', 'sqrt', 'log2'], 'subsample': [0.5, 0.8, 1], \n",
    "         'max_depth': [3, 4, 5, 6]}\n",
    "clf = sklearn.grid_search.GridSearchCV(estimator, param, n_jobs = -1)\n",
    "clf.fit(ac_x_3, y)\n",
    "print clf.best_params_,  clf.best_score_"
   ]
  },
  {
   "cell_type": "code",
   "execution_count": 23,
   "metadata": {
    "collapsed": false
   },
   "outputs": [
    {
     "name": "stdout",
     "output_type": "stream",
     "text": [
      "{'max_features': 'auto', 'n_estimators': 2000, 'learning_rate': 0.1, 'max_depth': 5, 'subsample': 0.5} -1.03256123996\n"
     ]
    }
   ],
   "source": [
    "estimator = GradientBoostingRegressor(random_state=42)\n",
    "param = {'learning_rate': [1e-1], 'n_estimators': (500, 1000, 2000), \n",
    "         'max_features': ['auto', 'sqrt', 'log2'], 'subsample': [0.3, 0.5, 0.7], \n",
    "         'max_depth': [5]}\n",
    "clf = sklearn.grid_search.GridSearchCV(estimator, param, n_jobs = -1)\n",
    "clf.fit(ac_x_3, y)\n",
    "print clf.best_params_,  clf.best_score_"
   ]
  },
  {
   "cell_type": "code",
   "execution_count": 26,
   "metadata": {
    "collapsed": false
   },
   "outputs": [
    {
     "name": "stdout",
     "output_type": "stream",
     "text": [
      "{'max_features': 'sqrt', 'n_estimators': 1000, 'learning_rate': 0.1, 'max_depth': 5, 'subsample': 0.7} -0.990569484804\n"
     ]
    }
   ],
   "source": [
    "estimator = GradientBoostingRegressor(random_state=42)\n",
    "param = {'learning_rate': [1e-1], 'n_estimators': (500, 1000, 2000), \n",
    "         'max_features': ['auto', 'sqrt', 'log2'], 'subsample': [0.3, 0.5, 0.7], \n",
    "         'max_depth': [5]}\n",
    "clf = sklearn.grid_search.GridSearchCV(estimator, param, n_jobs = -1)\n",
    "clf.fit(ac_x_2, y)\n",
    "print clf.best_params_,  clf.best_score_"
   ]
  },
  {
   "cell_type": "code",
   "execution_count": 27,
   "metadata": {
    "collapsed": false
   },
   "outputs": [
    {
     "name": "stdout",
     "output_type": "stream",
     "text": [
      "{'kernel': 'linear', 'C': 0.01, 'degree': 2, 'epsilon': 0.01, 'coef0': 0.1, 'gamma': 0.001} -0.730218918729\n"
     ]
    }
   ],
   "source": [
    "estimator = svm.SVR()\n",
    "param = {'C': (0.01, 0.1, 1, 10), 'epsilon':(0.01, 0.1, 1, 10), 'kernel': ('rbf', 'linear', 'poly', 'sigmoid'),\n",
    "         'degree': (2,), 'gamma': (1e-3, 1e-2, 1e-1), 'coef0': (1e-1, 0, 1)}\n",
    "\n",
    "clf = sklearn.grid_search.GridSearchCV(estimator, param, n_jobs = -1)\n",
    "clf.fit(ac_x_1, y)\n",
    "print clf.best_params_,  clf.best_score_"
   ]
  },
  {
   "cell_type": "code",
   "execution_count": 30,
   "metadata": {
    "collapsed": false
   },
   "outputs": [
    {
     "name": "stdout",
     "output_type": "stream",
     "text": [
      "{'epsilon': 0.0001, 'C': 0.01, 'kernel': 'linear'} -0.724168266707\n"
     ]
    }
   ],
   "source": [
    "estimator = svm.SVR()\n",
    "param = {'C': (1e-4, 1e-3, 0.01), 'epsilon':(1e-6, 1e-4, 0.01), 'kernel': ('linear',)}\n",
    "\n",
    "clf = sklearn.grid_search.GridSearchCV(estimator, param, n_jobs = -1)\n",
    "clf.fit(ac_x_1, y)\n",
    "print clf.best_params_,  clf.best_score_"
   ]
  },
  {
   "cell_type": "code",
   "execution_count": 31,
   "metadata": {
    "collapsed": false
   },
   "outputs": [
    {
     "name": "stdout",
     "output_type": "stream",
     "text": [
      "{'epsilon': 1e-06, 'C': 0.01, 'kernel': 'linear'} -1.07280027914\n"
     ]
    }
   ],
   "source": [
    "estimator = svm.SVR()\n",
    "param = {'C': (1e-4, 1e-3, 0.01), 'epsilon':(1e-6, 1e-4, 0.01), 'kernel': ('linear',)}\n",
    "\n",
    "clf = sklearn.grid_search.GridSearchCV(estimator, param, n_jobs = -1)\n",
    "clf.fit(ac_x_2, y)\n",
    "print clf.best_params_,  clf.best_score_"
   ]
  },
  {
   "cell_type": "code",
   "execution_count": 32,
   "metadata": {
    "collapsed": false
   },
   "outputs": [
    {
     "name": "stdout",
     "output_type": "stream",
     "text": [
      "{'epsilon': 1e-06, 'C': 0.0001, 'kernel': 'linear'} -1.38749207788\n"
     ]
    }
   ],
   "source": [
    "estimator = svm.SVR()\n",
    "param = {'C': (1e-4, 1e-3, 0.01), 'epsilon':(1e-6, 1e-4, 0.01), 'kernel': ('linear',)}\n",
    "\n",
    "clf = sklearn.grid_search.GridSearchCV(estimator, param, n_jobs = -1)\n",
    "clf.fit(ac_x_3, y)\n",
    "print clf.best_params_,  clf.best_score_"
   ]
  },
  {
   "cell_type": "markdown",
   "metadata": {
    "collapsed": true
   },
   "source": [
    "use the best model to train all data and do prediction\n",
    "--------------\n",
    "\n",
    "### CT & GBRT "
   ]
  },
  {
   "cell_type": "code",
   "execution_count": 129,
   "metadata": {
    "collapsed": false
   },
   "outputs": [
    {
     "data": {
      "text/plain": [
       "GradientBoostingRegressor(alpha=0.9, init=None, learning_rate=0.1, loss='ls',\n",
       "             max_depth=4, max_features='sqrt', max_leaf_nodes=None,\n",
       "             min_samples_leaf=1, min_samples_split=2,\n",
       "             min_weight_fraction_leaf=0.0, n_estimators=50, presort='auto',\n",
       "             random_state=42, subsample=0.5, verbose=0, warm_start=False)"
      ]
     },
     "execution_count": 129,
     "metadata": {},
     "output_type": "execute_result"
    }
   ],
   "source": [
    "estimator = GradientBoostingRegressor(random_state=42, learning_rate=0.1, n_estimators=50, \n",
    "                                      max_features='sqrt', subsample = 0.5, max_depth = 4)\n",
    "estimator.fit(x, y)"
   ]
  },
  {
   "cell_type": "code",
   "execution_count": 130,
   "metadata": {
    "collapsed": false
   },
   "outputs": [],
   "source": [
    "y_predict_gbrt = estimator.predict(x)"
   ]
  },
  {
   "cell_type": "code",
   "execution_count": 139,
   "metadata": {
    "collapsed": false
   },
   "outputs": [
    {
     "data": {
      "text/plain": [
       "<matplotlib.text.Text at 0x7f1728c7f750>"
      ]
     },
     "execution_count": 139,
     "metadata": {},
     "output_type": "execute_result"
    },
    {
     "data": {
      "image/png": "[encoded data removed]",
      "text/plain": [
       "<matplotlib.figure.Figure at 0x7f17256ceb90>"
      ]
     },
     "metadata": {},
     "output_type": "display_data"
    }
   ],
   "source": [
    "plt.figure(figsize=(6,5))\n",
    "plt.plot(y, y_predict_gbrt, '.')\n",
    "plt.plot((0, 10), (0, 10), lw = 3)\n",
    "plt.xlim(0, 10)\n",
    "plt.ylim(0, 10)\n",
    "plt.xlabel('Data')\n",
    "plt.ylabel('Prediction')\n",
    "plt.title(\"R^2 = %.3f\" %(sklearn.metrics.r2_score(y, y_predict_gbrt)) )"
   ]
  },
  {
   "cell_type": "code",
   "execution_count": 12,
   "metadata": {
    "collapsed": true
   },
   "outputs": [],
   "source": [
    "# convert CT vector back to a.a.\n",
    "\n",
    "def ct2aa(ct):\n",
    "    a2 = ct / 49 \n",
    "    a1 = (ct - a2 * 49) / 7 \n",
    "    a0 = ct - a2 * 49 - a1 * 7\n",
    "    \n",
    "    return [num2aa[a0 + 1], num2aa[a1 + 1], num2aa[a2 + 1]]\n",
    "\n",
    "def ct2num(ct):\n",
    "    a2 = ct / 49 \n",
    "    a1 = (ct - a2 * 49) / 7 \n",
    "    a0 = ct - a2 * 49 - a1 * 7\n",
    "    \n",
    "    return [a0 + 1, a1 + 1, a2 + 1]"
   ]
  },
  {
   "cell_type": "code",
   "execution_count": 113,
   "metadata": {
    "collapsed": false,
    "scrolled": true
   },
   "outputs": [],
   "source": [
    "# predict for unseen sequence\n",
    "# since there are only seven groups of a.a., we only need to generate new seq. from AIYNRDC, each from one different group\n",
    "\n",
    "result = {}\n",
    "\n",
    "for c in product('AIYNRDC', repeat=7):\n",
    "    code = ''.join(c)\n",
    "    result[code] = estimator.predict([ct_code(code)])[0]"
   ]
  },
  {
   "cell_type": "code",
   "execution_count": 115,
   "metadata": {
    "collapsed": false,
    "scrolled": true
   },
   "outputs": [
    {
     "data": {
      "text/plain": [
       "[('RDRRRND', 7.611246393152709),\n",
       " ('RRRNDNI', 7.364427263365557),\n",
       " ('YIRRRND', 7.3049432775702243),\n",
       " ('RRRNDDI', 7.2721556794362288),\n",
       " ('RRRNDRY', 7.2678243888483562),\n",
       " ('RRRNDRD', 7.256387195866334),\n",
       " ('RRRNDDD', 7.2562197023805073),\n",
       " ('YIYDNID', 7.1629343837086488),\n",
       " ('RRRNDDR', 7.1506462733658518),\n",
       " ('YRRRNDD', 7.1309740075415107),\n",
       " ('RRRRNDD', 7.1309740075415107),\n",
       " ('RRRNDDY', 7.1309740075415107),\n",
       " ('RRRNDDC', 7.1309740075415107),\n",
       " ('RRRNDDA', 7.1309740075415107),\n",
       " ('IRRRNDD', 7.1309740075415107),\n",
       " ('DRRRNDD', 7.1309740075415107),\n",
       " ('CRRRNDD', 7.1309740075415107),\n",
       " ('ARRRNDD', 7.1309740075415107),\n",
       " ('RRRNDRN', 7.1057446854137947),\n",
       " ('NIRRRND', 7.08807939419943),\n",
       " ('IYRRRND', 7.0771597244921782),\n",
       " ('RIRRRND', 7.0728556747860862),\n",
       " ('DDRRRND', 7.0610474503495553),\n",
       " ('YYRRRND', 7.0413751845252142),\n",
       " ('YRRRRND', 7.0413751845252142),\n",
       " ('YRRRNDY', 7.0413751845252142),\n",
       " ('YRRRNDR', 7.0413751845252142),\n",
       " ('YRRRNDN', 7.0413751845252142),\n",
       " ('YRRRNDC', 7.0413751845252142),\n",
       " ('YRRRNDA', 7.0413751845252142),\n",
       " ('YDRRRND', 7.0413751845252142),\n",
       " ('YCRRRND', 7.0413751845252142),\n",
       " ('YARRRND', 7.0413751845252142),\n",
       " ('RRRRRND', 7.0413751845252142),\n",
       " ('RRRRNDY', 7.0413751845252142),\n",
       " ('RRRRNDR', 7.0413751845252142),\n",
       " ('RRRRNDN', 7.0413751845252142),\n",
       " ('RRRRNDC', 7.0413751845252142),\n",
       " ('RRRRNDA', 7.0413751845252142),\n",
       " ('RRRNRND', 7.0413751845252142),\n",
       " ('RRRNDYY', 7.0413751845252142),\n",
       " ('RRRNDYR', 7.0413751845252142),\n",
       " ('RRRNDYN', 7.0413751845252142),\n",
       " ('RRRNDYI', 7.0413751845252142),\n",
       " ('RRRNDYD', 7.0413751845252142),\n",
       " ('RRRNDYC', 7.0413751845252142),\n",
       " ('RRRNDYA', 7.0413751845252142),\n",
       " ('RRRNDRR', 7.0413751845252142),\n",
       " ('RRRNDRI', 7.0413751845252142),\n",
       " ('RRRNDRC', 7.0413751845252142)]"
      ]
     },
     "execution_count": 115,
     "metadata": {},
     "output_type": "execute_result"
    }
   ],
   "source": [
    "sorted(result.iteritems(), key=lambda (k,v): (v,k), reverse=True)[:50]"
   ]
  },
  {
   "cell_type": "markdown",
   "metadata": {},
   "source": [
    "### AC1 & SVR"
   ]
  },
  {
   "cell_type": "code",
   "execution_count": 116,
   "metadata": {
    "collapsed": false
   },
   "outputs": [
    {
     "data": {
      "text/plain": [
       "SVR(C=0.01, cache_size=200, coef0=0.0, degree=3, epsilon=0.0001, gamma='auto',\n",
       "  kernel='linear', max_iter=-1, shrinking=True, tol=0.001, verbose=False)"
      ]
     },
     "execution_count": 116,
     "metadata": {},
     "output_type": "execute_result"
    }
   ],
   "source": [
    "svr = svm.SVR(C=0.01, epsilon=1e-4, kernel='linear')\n",
    "svr.fit(ac_x_1, y)"
   ]
  },
  {
   "cell_type": "code",
   "execution_count": 120,
   "metadata": {
    "collapsed": true
   },
   "outputs": [],
   "source": [
    "y_predict_svr = svr.predict(ac_x_1)"
   ]
  },
  {
   "cell_type": "code",
   "execution_count": 140,
   "metadata": {
    "collapsed": false
   },
   "outputs": [
    {
     "data": {
      "text/plain": [
       "<matplotlib.text.Text at 0x7f172d4e22d0>"
      ]
     },
     "execution_count": 140,
     "metadata": {},
     "output_type": "execute_result"
    },
    {
     "data": {
      "image/png": "[encoded data removed]",
      "text/plain": [
       "<matplotlib.figure.Figure at 0x7f17284dda50>"
      ]
     },
     "metadata": {},
     "output_type": "display_data"
    }
   ],
   "source": [
    "plt.figure(figsize=(6,5))\n",
    "plt.plot(y, y_predict_svr, '.')\n",
    "plt.plot((0, 10), (0, 10), lw = 3)\n",
    "plt.xlim(0, 10)\n",
    "plt.ylim(0, 10)\n",
    "plt.xlabel('Data')\n",
    "plt.ylabel('Prediction')\n",
    "plt.title(\"R^2 = %.3f\" %(sklearn.metrics.r2_score(y, y_predict_svr)) )"
   ]
  },
  {
   "cell_type": "code",
   "execution_count": 118,
   "metadata": {
    "collapsed": false
   },
   "outputs": [],
   "source": [
    "result2 = {}\n",
    "\n",
    "for c in product('AIYNRDC', repeat=7):\n",
    "    code = ''.join(c)\n",
    "    result2[code] = svr.predict([autocovar(code, 1)])[0]"
   ]
  },
  {
   "cell_type": "code",
   "execution_count": 119,
   "metadata": {
    "collapsed": false,
    "scrolled": true
   },
   "outputs": [
    {
     "data": {
      "text/plain": [
       "[('RYIYIYR', 13.944523200820329),\n",
       " ('IYRYIYI', 13.927005907079236),\n",
       " ('IYIYRYI', 13.927005907079236),\n",
       " ('RYIYRYI', 13.91802644860323),\n",
       " ('IYRYIYR', 13.91802644860323),\n",
       " ('IYIYRYR', 13.91802644860323),\n",
       " ('RYRYIYI', 13.918026448592771),\n",
       " ('YIYRYIY', 13.917059114056572),\n",
       " ('YIYIYRY', 13.917059114056572),\n",
       " ('YRYIYIY', 13.917059114028378),\n",
       " ('IYRYRYI', 13.891529696393862),\n",
       " ('RYIYRYR', 13.885368153637645),\n",
       " ('RYRYIYR', 13.885368153623093),\n",
       " ('YRYRYIY', 13.871636110261223),\n",
       " ('YRYIYRY', 13.871636110261223),\n",
       " ('YIYRYRY', 13.871636110261223),\n",
       " ('RYIYIYI', 13.870626731650789),\n",
       " ('IYIYIYR', 13.870626731636237),\n",
       " ('IYRYRYR', 13.775995473643123),\n",
       " ('RYRYRYI', 13.775995473640394),\n",
       " ('YIYIYIY', 13.773051425911179),\n",
       " ('IYIYIYI', 13.773051425911179),\n",
       " ('NYIYIYR', 13.757871919417228),\n",
       " ('RYIYIYN', 13.757871919409952),\n",
       " ('IYRYIYC', 13.728192445491603),\n",
       " ('IYIYRYC', 13.728192445491603),\n",
       " ('CYRYIYI', 13.728192445491603),\n",
       " ('CYIYRYI', 13.728192445491603),\n",
       " ('RYRYIYC', 13.715995222131058),\n",
       " ('RYIYRYC', 13.715995222131058),\n",
       " ('CYRYIYR', 13.715995222116506),\n",
       " ('CYIYRYR', 13.715995222116506),\n",
       " ('IYIYRYN', 13.701793694605529),\n",
       " ('NYRYIYI', 13.701793694594615),\n",
       " ('NYIYRYI', 13.701793694594615),\n",
       " ('IYRYIYN', 13.701793694594615),\n",
       " ('NYIYIYI', 13.692427299573099),\n",
       " ('IYIYIYN', 13.692427299549452),\n",
       " ('RYIYIYD', 13.687101060265066),\n",
       " ('DYIYIYR', 13.687101060232779),\n",
       " ('RYIYIYC', 13.683075447034897),\n",
       " ('CYIYIYR', 13.683075447034897),\n",
       " ('IYRYRYC', 13.678236292778054),\n",
       " ('CYRYRYI', 13.678236292778054),\n",
       " ('RYRYIYN', 13.660683550298616),\n",
       " ('RYIYRYN', 13.660683550298616),\n",
       " ('NYRYIYR', 13.660683550298616),\n",
       " ('NYIYRYR', 13.660683550298616),\n",
       " ('YRYRYRY', 13.636782414461011),\n",
       " ('RYRYRYR', 13.636782414461011)]"
      ]
     },
     "execution_count": 119,
     "metadata": {},
     "output_type": "execute_result"
    }
   ],
   "source": [
    "sorted(result2.iteritems(), key=lambda (k,v): (v,k), reverse=True)[:50]"
   ]
  },
  {
   "cell_type": "code",
   "execution_count": 145,
   "metadata": {
    "collapsed": false
   },
   "outputs": [],
   "source": [
    "import pickle\n",
    "def dump_file(filename, data):\n",
    "    \"\"\" create a local data folder to save the intermediate files \"\"\"\n",
    "    f = open('./' + filename, 'wb')\n",
    "    pickle.dump(data, f)\n",
    "    f.close()\n",
    "    \n",
    "def load_file(filename):\n",
    "    f = open(filename, 'rb')\n",
    "    data = pickle.load(f)\n",
    "    f.close()\n",
    "    \n",
    "    return data"
   ]
  },
  {
   "cell_type": "code",
   "execution_count": null,
   "metadata": {
    "collapsed": true
   },
   "outputs": [],
   "source": []
  }
 ],
 "metadata": {
  "anaconda-cloud": {},
  "kernelspec": {
   "display_name": "Python [default]",
   "language": "python",
   "name": "python2"
  },
  "language_info": {
   "codemirror_mode": {
    "name": "ipython",
    "version": 2
   },
   "file_extension": ".py",
   "mimetype": "text/x-python",
   "name": "python",
   "nbconvert_exporter": "python",
   "pygments_lexer": "ipython2",
   "version": "2.7.12"
  }
 },
 "nbformat": 4,
 "nbformat_minor": 0
}
